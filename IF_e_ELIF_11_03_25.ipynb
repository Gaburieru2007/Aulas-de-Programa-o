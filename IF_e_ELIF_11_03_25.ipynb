{
  "nbformat": 4,
  "nbformat_minor": 0,
  "metadata": {
    "colab": {
      "provenance": [],
      "authorship_tag": "ABX9TyN4FC67xd+dGhMpnBUoq4v0",
      "include_colab_link": true
    },
    "kernelspec": {
      "name": "python3",
      "display_name": "Python 3"
    },
    "language_info": {
      "name": "python"
    }
  },
  "cells": [
    {
      "cell_type": "markdown",
      "metadata": {
        "id": "view-in-github",
        "colab_type": "text"
      },
      "source": [
        "<a href=\"https://colab.research.google.com/github/Gaburieru2007/Aulas-de-Programa-o/blob/main/IF_e_ELIF_11_03_25.ipynb\" target=\"_parent\"><img src=\"https://colab.research.google.com/assets/colab-badge.svg\" alt=\"Open In Colab\"/></a>"
      ]
    },
    {
      "cell_type": "markdown",
      "source": [
        "# Estruturas de Controle: IF, ELSE e ELIF"
      ],
      "metadata": {
        "id": "IF0YwZneTKhB"
      }
    },
    {
      "cell_type": "code",
      "execution_count": null,
      "metadata": {
        "id": "mUp2ddtOTF61"
      },
      "outputs": [],
      "source": [
        "#Recebe a idade e verifica se é maioridade\n",
        "idade= 17\n",
        "\n",
        "if idade > 18:\n",
        "  print(\"Voce é maior de idade\")\n",
        "else:\n",
        "  print(\"É menor de idade\")"
      ]
    },
    {
      "cell_type": "markdown",
      "source": [
        "#TRABALHANDO COM MULTIPLAS CONDIÇÕES ELIF"
      ],
      "metadata": {
        "id": "VbhHc-SvVlDV"
      }
    },
    {
      "cell_type": "code",
      "source": [
        "#Recebe a idade de usuário e informa se e idoso (60+), meia idade (+35), adulto (18+), menor de idade (18-)"
      ],
      "metadata": {
        "id": "IIXb2Q7LVrpF"
      },
      "execution_count": null,
      "outputs": []
    },
    {
      "cell_type": "code",
      "source": [
        "idade= 25\n",
        "if idade >= 60:\n",
        "  print(\"É idoso\")\n",
        "elif idade >= 35:\n",
        "  print(\"Meia idade\")\n",
        "elif idade >= 18:\n",
        "  print(\"Adulto\")\n",
        "else:\n",
        "  print(\"Kiddo\")\n"
      ],
      "metadata": {
        "colab": {
          "base_uri": "https://localhost:8080/"
        },
        "id": "0kMTQ2U-V91t",
        "outputId": "2243f090-451c-4c9e-9091-ac462fbd8e7f"
      },
      "execution_count": null,
      "outputs": [
        {
          "output_type": "stream",
          "name": "stdout",
          "text": [
            "Adulto\n"
          ]
        }
      ]
    },
    {
      "cell_type": "markdown",
      "source": [
        "# Escreva um programa que peça ao usuário o valor total de uma compra e aplique um desconto baseado no valor\n",
        "\n",
        "* Compras até 100,00 - Sem desconto\n",
        "* Compras entre 101,00 E 500,00 - Desconto de 10%\n",
        "* Compras entre 501 e 1000,00 - Desconto de 20%\n",
        "* Compras acima de 1000,00 - Desconto de 30%"
      ],
      "metadata": {
        "id": "8UMYNkPCXv0-"
      }
    },
    {
      "cell_type": "code",
      "source": [
        "Compra= float(input(\"Digite o valor da compra: \"))\n",
        "\n",
        "if Compra <= 100:\n",
        "  print(\"Sem desconto parceiro\")\n",
        "elif Compra <=500:\n",
        "  print(Compra * 0.1)\n",
        "elif Compra <=1000:\n",
        "  print(Compra * 0.2)\n",
        "else:\n",
        "  print(Compra * 0.3)"
      ],
      "metadata": {
        "colab": {
          "base_uri": "https://localhost:8080/"
        },
        "id": "HliqSljRZKsy",
        "outputId": "ad0abe3a-fd57-4d40-ece6-50dd3094e283"
      },
      "execution_count": null,
      "outputs": [
        {
          "output_type": "stream",
          "name": "stdout",
          "text": [
            "Digite o valor da compra: 5000\n",
            "1500.0\n"
          ]
        }
      ]
    },
    {
      "cell_type": "markdown",
      "source": [
        "# Estruturas aninhadas"
      ],
      "metadata": {
        "id": "D2hY-P26eDaO"
      }
    },
    {
      "cell_type": "code",
      "source": [
        "#Pergunta a idade do usuário e se tem CNH, caso satisfaça as duas condições\n",
        "idade = 10\n",
        "cnh= True\n",
        "if idade > 18:\n",
        "  if cnh:\n",
        "    print(\"Pode dirigir\")\n",
        "  else:\n",
        "    print(\"Dirige não!\")\n",
        "else:\n",
        "  print(\"Kiddo\")\n"
      ],
      "metadata": {
        "colab": {
          "base_uri": "https://localhost:8080/"
        },
        "id": "K2UMo5mYeHBt",
        "outputId": "4dfd4fb2-710e-4b9a-fc52-111162783896"
      },
      "execution_count": 55,
      "outputs": [
        {
          "output_type": "stream",
          "name": "stdout",
          "text": [
            "Kiddo\n"
          ]
        }
      ]
    }
  ]
}