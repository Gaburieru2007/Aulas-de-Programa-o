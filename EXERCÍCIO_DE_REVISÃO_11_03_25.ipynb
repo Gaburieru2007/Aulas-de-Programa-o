{
  "nbformat": 4,
  "nbformat_minor": 0,
  "metadata": {
    "colab": {
      "provenance": [],
      "authorship_tag": "ABX9TyNC/VyRB77AsTR4FBMusvqh",
      "include_colab_link": true
    },
    "kernelspec": {
      "name": "python3",
      "display_name": "Python 3"
    },
    "language_info": {
      "name": "python"
    }
  },
  "cells": [
    {
      "cell_type": "markdown",
      "metadata": {
        "id": "view-in-github",
        "colab_type": "text"
      },
      "source": [
        "<a href=\"https://colab.research.google.com/github/Gaburieru2007/Aulas-de-Programa-o/blob/main/EXERC%C3%8DCIO_DE_REVIS%C3%83O_11_03_25.ipynb\" target=\"_parent\"><img src=\"https://colab.research.google.com/assets/colab-badge.svg\" alt=\"Open In Colab\"/></a>"
      ]
    },
    {
      "cell_type": "code",
      "execution_count": null,
      "metadata": {
        "id": "NkudfDoSGmRw"
      },
      "outputs": [],
      "source": []
    },
    {
      "cell_type": "markdown",
      "source": [
        "# 1. Peça ao usuário dois números do tipo float e execute as seguinttes operações"
      ],
      "metadata": {
        "id": "D3_I-gwhGtqy"
      }
    },
    {
      "cell_type": "code",
      "source": [
        "#Soma de a e b\n",
        "#Subtração de A e B\n",
        "#Multiplicação\n",
        "#Divisão\n",
        "#Resto da divisão de a por b\n",
        "\n",
        "A= float(input(\"Digite o primeiro numero: \"))\n",
        "B= float(input(\"Digite o segundo numero: \"))\n",
        "\n",
        "print(A+B)\n",
        "print(A-B)\n",
        "print(A*B)\n",
        "print(A/B)\n",
        "print(A%B)\n",
        "#Pra ter o resto deve ser \"%\"\n"
      ],
      "metadata": {
        "id": "Fpwh60PoG0xN"
      },
      "execution_count": null,
      "outputs": []
    },
    {
      "cell_type": "markdown",
      "source": [
        "# 2. O usuário deve inserir o peso e a altura do usuário e o programa retorna o IMC"
      ],
      "metadata": {
        "id": "SWKI8RnLHIUG"
      }
    },
    {
      "cell_type": "code",
      "source": [
        "#Lembrar que a \"virgula\" deve ser ponto aqui se não dá erro\n",
        "Peso= float(input(\"Digite o Seu Peso em KG: \"))\n",
        "Altura= float(input(\"Digite Sua altura em M: \"))\n",
        "print(Peso/Altura**Altura)"
      ],
      "metadata": {
        "id": "OV7RG2GCHSp3"
      },
      "execution_count": null,
      "outputs": []
    },
    {
      "cell_type": "markdown",
      "source": [
        "# 3. Escreva um programa que solicita ao usuário: Nome da Pessoa, nome da rua, numero da casa/prédio, bairro, cidade, CEP. Ao final, o programa escreve um texto no estilo que se segue:\n",
        "\"Manuel, residente a rua Adernal dos Santos, 21, Cruz das armas, João Pessoa, CEP 5800000"
      ],
      "metadata": {
        "id": "KTMy6iZQHe4-"
      }
    },
    {
      "cell_type": "code",
      "source": [
        "Nome= input(\"Digite seu nome: \")\n",
        "Rua= input(\"Digite sua rua: \")\n",
        "Numero= input(\"Digite o numero da casa: \")\n",
        "Bairro= input(\"Digite seu bairro: \")\n",
        "Cidade= input(\"Digite sua cidade: \")\n",
        "CEP= (input(\"Digite seu CEP: \"))\n",
        "print(f'{Nome}, residente a rua {Rua}, {Numero}, {Bairro}, {Cidade}, {CEP}')"
      ],
      "metadata": {
        "id": "XKTqRqWVLXfL"
      },
      "execution_count": null,
      "outputs": []
    },
    {
      "cell_type": "markdown",
      "source": [
        "# 4. Crie uma variável para armazenar uma temperatura em graus Celsius.\n",
        "Converta essa temperatura para Fahrenheit usando a fórmula F= (C*9/5) + 32 e imprima o resultado"
      ],
      "metadata": {
        "id": "CZz5SpEPOs3C"
      }
    },
    {
      "cell_type": "code",
      "source": [
        "Celso= float(input(\"Digite uma temperatura em Celsius por favor: \"))\n",
        "Fah= (Celso * 9/5) + 32\n",
        "print(Fah)"
      ],
      "metadata": {
        "id": "zOHCmw6TPEX4"
      },
      "execution_count": null,
      "outputs": []
    }
  ]
}