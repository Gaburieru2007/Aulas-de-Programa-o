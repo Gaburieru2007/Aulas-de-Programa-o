{
  "nbformat": 4,
  "nbformat_minor": 0,
  "metadata": {
    "colab": {
      "provenance": [],
      "authorship_tag": "ABX9TyOl6jLMVaD+Sv+xBh8p3FPQ",
      "include_colab_link": true
    },
    "kernelspec": {
      "name": "python3",
      "display_name": "Python 3"
    },
    "language_info": {
      "name": "python"
    }
  },
  "cells": [
    {
      "cell_type": "markdown",
      "metadata": {
        "id": "view-in-github",
        "colab_type": "text"
      },
      "source": [
        "<a href=\"https://colab.research.google.com/github/Gaburieru2007/Aulas-de-Programa-o/blob/main/Aula_inicial_algoritmos(25_02_25)_ipynbp.ipynb\" target=\"_parent\"><img src=\"https://colab.research.google.com/assets/colab-badge.svg\" alt=\"Open In Colab\"/></a>"
      ]
    },
    {
      "cell_type": "markdown",
      "source": [
        "# Aula Programação- Variáveis"
      ],
      "metadata": {
        "id": "EkSJya7lMVyS"
      }
    },
    {
      "cell_type": "code",
      "source": [
        "print(\"Olá pessoas!\") #Imprimir texto\n",
        "print( 8+ 10 ) #Imprimindo operação matematica\n",
        "print(8, \"10\" ) #Concatenando texto e numero"
      ],
      "metadata": {
        "colab": {
          "base_uri": "https://localhost:8080/"
        },
        "id": "VDc9eNR-MUQg",
        "outputId": "43ae41f0-a596-46d6-d080-3a774e0d4278"
      },
      "execution_count": null,
      "outputs": [
        {
          "output_type": "stream",
          "name": "stdout",
          "text": [
            "Olá pessoas!\n",
            "18\n",
            "8 10\n"
          ]
        }
      ]
    },
    {
      "cell_type": "code",
      "source": [
        "#Sabendo que os operadores matematicos são\n",
        "# + - / *\n",
        "#Imprima um exemplo de cada operação\n",
        "print(5+5)\n",
        "print(8-2)\n",
        "print(2*3)\n",
        "print(9/3)"
      ],
      "metadata": {
        "id": "6iWgaCVgOIWz"
      },
      "execution_count": null,
      "outputs": []
    },
    {
      "cell_type": "code",
      "source": [
        "#Tipos de dados\n",
        "print(type(5)) #inteiros\n",
        "print(type(2.0)) #Pontos Flutuantes (ou float)\n",
        "print(type(\"Maça\")) # strings (Cadeias de caracteres)\n",
        "print(type(5 > 20)) # booleanos (bool) = Verificão lógica"
      ],
      "metadata": {
        "id": "V1Vb23-LPSKM"
      },
      "execution_count": null,
      "outputs": []
    },
    {
      "cell_type": "markdown",
      "source": [
        "#Variávies#"
      ],
      "metadata": {
        "id": "gjEXMX9RS9IW"
      }
    },
    {
      "cell_type": "code",
      "source": [
        "A = 42\n",
        "print(A)\n",
        "A= 35\n",
        "print(A)\n",
        "A= \"tapioca\" #Essa troca de tipo de dado, é devido a tipagem do python\n",
        "print(A)"
      ],
      "metadata": {
        "id": "V62mED9ZTKlG"
      },
      "execution_count": null,
      "outputs": []
    },
    {
      "cell_type": "code",
      "source": [
        "A = 10\n",
        "B = 20\n",
        "#Façam as 4 operações matematicas com A e B\n",
        "print(A+B)\n",
        "print(B-A)\n",
        "print(A*A)\n",
        "print(B/A)\n"
      ],
      "metadata": {
        "id": "SrQGfMygUPSv"
      },
      "execution_count": null,
      "outputs": []
    },
    {
      "cell_type": "code",
      "source": [
        "A = 25\n",
        "B = 33\n",
        "C = 12\n",
        "print(A + B / C)\n",
        "print((A+B) / C)\n",
        "print(A+ (B / C))"
      ],
      "metadata": {
        "id": "0TvlqPeEVkxv"
      },
      "execution_count": null,
      "outputs": []
    },
    {
      "cell_type": "code",
      "source": [
        "# Crie três variaveis para receber as notas de um aluno\n",
        "#O algoritmo deve retornar a média do aluno\n",
        "\n",
        "nota1 = 8\n",
        "nota2 = 9\n",
        "nota3 = 10\n",
        "\n",
        "média = (nota1 + nota2 + nota3)/3\n",
        "print(média)\n",
        "\n",
        "\n"
      ],
      "metadata": {
        "id": "Ny2KY5zqWV_o",
        "outputId": "5ba87774-2e64-4bd5-dc80-2df52d39c43f",
        "colab": {
          "base_uri": "https://localhost:8080/"
        }
      },
      "execution_count": null,
      "outputs": [
        {
          "output_type": "stream",
          "name": "stdout",
          "text": [
            "9.0\n"
          ]
        }
      ]
    },
    {
      "cell_type": "code",
      "source": [
        "#Entrada de Dados\n",
        "nome = input(\"Digite seu nome \")\n",
        "print(\"Olá,\" +nome)"
      ],
      "metadata": {
        "id": "9p0hClvZYiyJ",
        "outputId": "f02fb2b7-a56c-463d-dce6-c5dd1709ac65",
        "colab": {
          "base_uri": "https://localhost:8080/"
        }
      },
      "execution_count": null,
      "outputs": [
        {
          "output_type": "stream",
          "name": "stdout",
          "text": [
            "Digite seu nome Gabriel\n",
            "Olá,Gabriel\n"
          ]
        }
      ]
    },
    {
      "cell_type": "code",
      "source": [
        "#Recebe a idade e multiplica por 3\n",
        "Idade = int(input(\"Me diga sua idade: \"))\n",
        "\n",
        "print(Idade*3)"
      ],
      "metadata": {
        "id": "KRBCSCDGZVjr",
        "outputId": "f4f98d71-441e-4e9f-bdba-dffce6087e0c",
        "colab": {
          "base_uri": "https://localhost:8080/"
        }
      },
      "execution_count": null,
      "outputs": [
        {
          "output_type": "stream",
          "name": "stdout",
          "text": [
            "Me diga sua idade: 18\n",
            "54\n"
          ]
        }
      ]
    },
    {
      "cell_type": "code",
      "source": [
        "#Receba o raio de um circulo e calcula sua area\n",
        "#area = pi vezes o raio ao quadrado\n",
        "\n",
        "raio = int(input(\"Digite o raio do circulo:\"))\n",
        "area = 3.14 * (raio * raio)\n",
        "print(area)"
      ],
      "metadata": {
        "id": "4D9PBrpOasO2",
        "outputId": "022e50ec-a27e-4bad-b7ff-d1661ed8f7c8",
        "colab": {
          "base_uri": "https://localhost:8080/"
        }
      },
      "execution_count": null,
      "outputs": [
        {
          "output_type": "stream",
          "name": "stdout",
          "text": [
            "Digite o raio do circulo:20\n",
            "1256.0\n"
          ]
        }
      ]
    },
    {
      "cell_type": "code",
      "source": [
        "#Refatoração\n",
        "import math\n",
        "raio = int(input('Digite o raio do círculo: '))\n",
        "area = math.pi * (raio **2)\n",
        "\n",
        "print(f\"{area:.2f}\")"
      ],
      "metadata": {
        "id": "GpnADDg-c6LP",
        "outputId": "80da24f5-7285-4722-8d5a-1a40f3e57673",
        "colab": {
          "base_uri": "https://localhost:8080/"
        }
      },
      "execution_count": null,
      "outputs": [
        {
          "output_type": "stream",
          "name": "stdout",
          "text": [
            "Digite o raio do círculo: 20\n",
            "1256.64\n"
          ]
        }
      ]
    }
  ]
}